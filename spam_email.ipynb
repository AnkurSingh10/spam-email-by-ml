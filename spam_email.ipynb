{
 "cells": [
  {
   "cell_type": "code",
   "execution_count": 1,
   "id": "6f229cbf-282d-47ef-90f0-d8ba56cf0649",
   "metadata": {},
   "outputs": [],
   "source": [
    "import numpy as np\n",
    "import pandas as pd\n",
    "import tensorflow as tf\n",
    "import re\n",
    "from textblob import TextBlob\n",
    "from nltk.corpus import stopwords\n",
    "import gensim \n",
    "from nltk import sent_tokenize , word_tokenize\n",
    "from gensim.utils import simple_preprocess\n",
    "from tqdm import tqdm\n",
    "import contractions\n",
    "import string"
   ]
  },
  {
   "cell_type": "code",
   "execution_count": 2,
   "id": "da7283ed-72d2-4537-8331-81567798036a",
   "metadata": {},
   "outputs": [
    {
     "data": {
      "text/html": [
       "<div>\n",
       "<style scoped>\n",
       "    .dataframe tbody tr th:only-of-type {\n",
       "        vertical-align: middle;\n",
       "    }\n",
       "\n",
       "    .dataframe tbody tr th {\n",
       "        vertical-align: top;\n",
       "    }\n",
       "\n",
       "    .dataframe thead th {\n",
       "        text-align: right;\n",
       "    }\n",
       "</style>\n",
       "<table border=\"1\" class=\"dataframe\">\n",
       "  <thead>\n",
       "    <tr style=\"text-align: right;\">\n",
       "      <th></th>\n",
       "      <th>label</th>\n",
       "      <th>text</th>\n",
       "    </tr>\n",
       "  </thead>\n",
       "  <tbody>\n",
       "    <tr>\n",
       "      <th>0</th>\n",
       "      <td>1</td>\n",
       "      <td>ounce feather bowl hummingbird opec moment ala...</td>\n",
       "    </tr>\n",
       "    <tr>\n",
       "      <th>1</th>\n",
       "      <td>1</td>\n",
       "      <td>wulvob get your medircations online qnb ikud v...</td>\n",
       "    </tr>\n",
       "    <tr>\n",
       "      <th>2</th>\n",
       "      <td>0</td>\n",
       "      <td>computer connection from cnn com wednesday es...</td>\n",
       "    </tr>\n",
       "    <tr>\n",
       "      <th>3</th>\n",
       "      <td>1</td>\n",
       "      <td>university degree obtain a prosperous future m...</td>\n",
       "    </tr>\n",
       "    <tr>\n",
       "      <th>4</th>\n",
       "      <td>0</td>\n",
       "      <td>thanks for all your answers guys i know i shou...</td>\n",
       "    </tr>\n",
       "    <tr>\n",
       "      <th>...</th>\n",
       "      <td>...</td>\n",
       "      <td>...</td>\n",
       "    </tr>\n",
       "    <tr>\n",
       "      <th>83443</th>\n",
       "      <td>0</td>\n",
       "      <td>hi given a date how do i get the last date of ...</td>\n",
       "    </tr>\n",
       "    <tr>\n",
       "      <th>83444</th>\n",
       "      <td>1</td>\n",
       "      <td>now you can order software on cd or download i...</td>\n",
       "    </tr>\n",
       "    <tr>\n",
       "      <th>83445</th>\n",
       "      <td>1</td>\n",
       "      <td>dear valued member canadianpharmacy provides a...</td>\n",
       "    </tr>\n",
       "    <tr>\n",
       "      <th>83446</th>\n",
       "      <td>0</td>\n",
       "      <td>subscribe change profile contact us long term ...</td>\n",
       "    </tr>\n",
       "    <tr>\n",
       "      <th>83447</th>\n",
       "      <td>1</td>\n",
       "      <td>get the most out of life ! viagra has helped m...</td>\n",
       "    </tr>\n",
       "  </tbody>\n",
       "</table>\n",
       "<p>83448 rows × 2 columns</p>\n",
       "</div>"
      ],
      "text/plain": [
       "       label                                               text\n",
       "0          1  ounce feather bowl hummingbird opec moment ala...\n",
       "1          1  wulvob get your medircations online qnb ikud v...\n",
       "2          0   computer connection from cnn com wednesday es...\n",
       "3          1  university degree obtain a prosperous future m...\n",
       "4          0  thanks for all your answers guys i know i shou...\n",
       "...      ...                                                ...\n",
       "83443      0  hi given a date how do i get the last date of ...\n",
       "83444      1  now you can order software on cd or download i...\n",
       "83445      1  dear valued member canadianpharmacy provides a...\n",
       "83446      0  subscribe change profile contact us long term ...\n",
       "83447      1  get the most out of life ! viagra has helped m...\n",
       "\n",
       "[83448 rows x 2 columns]"
      ]
     },
     "execution_count": 2,
     "metadata": {},
     "output_type": "execute_result"
    }
   ],
   "source": [
    "df = pd.read_csv(\"combined_data.csv\")\n",
    "df"
   ]
  },
  {
   "cell_type": "code",
   "execution_count": 3,
   "id": "45b506d6-cc4e-4f11-94df-1ef713ce8adf",
   "metadata": {},
   "outputs": [
    {
     "data": {
      "text/plain": [
       "label    0\n",
       "text     0\n",
       "dtype: int64"
      ]
     },
     "execution_count": 3,
     "metadata": {},
     "output_type": "execute_result"
    }
   ],
   "source": [
    "df.isnull().sum()"
   ]
  },
  {
   "cell_type": "code",
   "execution_count": 4,
   "id": "3f932a5a-4c49-4183-b701-868a41c332dd",
   "metadata": {},
   "outputs": [],
   "source": [
    "x_train = df['text']\n",
    "y_train = df['label']"
   ]
  },
  {
   "cell_type": "code",
   "execution_count": 5,
   "id": "8cf68286-35a7-473a-a2b1-fb85d52d8a1c",
   "metadata": {},
   "outputs": [
    {
     "data": {
      "text/plain": [
       "0        1\n",
       "1        1\n",
       "2        0\n",
       "3        1\n",
       "4        0\n",
       "        ..\n",
       "83443    0\n",
       "83444    1\n",
       "83445    1\n",
       "83446    0\n",
       "83447    1\n",
       "Name: label, Length: 83448, dtype: int64"
      ]
     },
     "execution_count": 5,
     "metadata": {},
     "output_type": "execute_result"
    }
   ],
   "source": [
    "y_train"
   ]
  },
  {
   "cell_type": "code",
   "execution_count": 6,
   "id": "689917f7-12b2-48a0-9743-14b895211509",
   "metadata": {},
   "outputs": [],
   "source": [
    "def preprocess(x):\n",
    "    x = x.str.lower()\n",
    "    def remove_tags(t):\n",
    "        pattern = re.compile('<.*?>')\n",
    "        return pattern.sub(r'',t)\n",
    "    x = x.apply(remove_tags)\n",
    "    def remove_urls(text):\n",
    "        url_pattern = re.compile(r'https?://\\S+|www\\.\\S+')\n",
    "        text_without_urls = url_pattern.sub('', text)\n",
    "        return text_without_urls\n",
    "    x = x.apply(remove_urls)\n",
    "    lst = stopwords.words('english')\n",
    "    x.apply(lambda xi:[item for item in xi.split() if item not in lst]).apply(lambda xi:\" \".join(xi))\n",
    "    TEXT_CLEANING_RE = \"[^a-zA-z\\s]\" # Matches character that are not letter or whitespace to remove them\n",
    "    def clean_text(text):\n",
    "        text = re.sub(TEXT_CLEANING_RE, ' ', str(text).lower()).strip() # Remove unwanted characters\n",
    "        cleaned_text = re.sub('\\s+', ' ', text).strip() # Normalize whitespace\n",
    "        return cleaned_text\n",
    "    x = x.apply(lambda xi: clean_text(xi))\n",
    "    return x  "
   ]
  },
  {
   "cell_type": "code",
   "execution_count": 7,
   "id": "1b8f37aa-e9af-4f54-b369-bb81d3ef17de",
   "metadata": {},
   "outputs": [],
   "source": [
    "x_train = preprocess(x_train)"
   ]
  },
  {
   "cell_type": "code",
   "execution_count": 8,
   "id": "8b6cdbaf-d345-4a6f-a7a9-884a174423c1",
   "metadata": {},
   "outputs": [
    {
     "data": {
      "text/plain": [
       "0        ounce feather bowl hummingbird opec moment ala...\n",
       "1        wulvob get your medircations online qnb ikud v...\n",
       "2        computer connection from cnn com wednesday esc...\n",
       "3        university degree obtain a prosperous future m...\n",
       "4        thanks for all your answers guys i know i shou...\n",
       "                               ...                        \n",
       "83443    hi given a date how do i get the last date of ...\n",
       "83444    now you can order software on cd or download i...\n",
       "83445    dear valued member canadianpharmacy provides a...\n",
       "83446    subscribe change profile contact us long term ...\n",
       "83447    get the most out of life viagra has helped mil...\n",
       "Name: text, Length: 83448, dtype: object"
      ]
     },
     "execution_count": 8,
     "metadata": {},
     "output_type": "execute_result"
    }
   ],
   "source": [
    "x_train"
   ]
  },
  {
   "cell_type": "code",
   "execution_count": 9,
   "id": "ac17d0c9-149a-4b52-8bc4-bf430448b98e",
   "metadata": {},
   "outputs": [],
   "source": [
    "from sklearn.model_selection import train_test_split"
   ]
  },
  {
   "cell_type": "code",
   "execution_count": 10,
   "id": "990a3f7c-dbab-4d72-846d-cfbe92c4ba57",
   "metadata": {},
   "outputs": [],
   "source": [
    "x_train , x_test , y_train , y_test = train_test_split(x_train , y_train , test_size = 0.3 )"
   ]
  },
  {
   "cell_type": "code",
   "execution_count": 11,
   "id": "a3087d24-0d9b-4130-a4c7-e88b30bdb675",
   "metadata": {},
   "outputs": [],
   "source": [
    "x_test ,x_val , y_test , y_val =  train_test_split(x_test , y_test , test_size = 0.5 )"
   ]
  },
  {
   "cell_type": "code",
   "execution_count": 12,
   "id": "a60ea23f-411d-4f6f-9ef8-6187d88fab76",
   "metadata": {},
   "outputs": [
    {
     "data": {
      "text/plain": [
       "58413"
      ]
     },
     "execution_count": 12,
     "metadata": {},
     "output_type": "execute_result"
    }
   ],
   "source": [
    "x_train.size"
   ]
  },
  {
   "cell_type": "code",
   "execution_count": 13,
   "id": "f01e927e-32af-4094-b099-2e96cedda826",
   "metadata": {},
   "outputs": [
    {
     "data": {
      "text/plain": [
       "12517"
      ]
     },
     "execution_count": 13,
     "metadata": {},
     "output_type": "execute_result"
    }
   ],
   "source": [
    "x_test.size"
   ]
  },
  {
   "cell_type": "code",
   "execution_count": 14,
   "id": "f44caf87-fd2c-4f00-b380-91611643848a",
   "metadata": {},
   "outputs": [
    {
     "data": {
      "text/plain": [
       "12518"
      ]
     },
     "execution_count": 14,
     "metadata": {},
     "output_type": "execute_result"
    }
   ],
   "source": [
    "x_val.size"
   ]
  },
  {
   "cell_type": "code",
   "execution_count": 15,
   "id": "803df6e4-9910-487d-91fd-94a43021d084",
   "metadata": {},
   "outputs": [],
   "source": [
    "from sklearn.feature_extraction.text import TfidfVectorizer\n",
    "tf = TfidfVectorizer(max_features = 15000)"
   ]
  },
  {
   "cell_type": "code",
   "execution_count": 16,
   "id": "d77f64e3-efb9-4458-a6c8-5e4896d1277a",
   "metadata": {},
   "outputs": [],
   "source": [
    "x_train_tf = tf.fit_transform(x_train).toarray()\n",
    "x_test_tf = tf.transform(x_test).toarray()"
   ]
  },
  {
   "cell_type": "code",
   "execution_count": 17,
   "id": "f5fe39a0-09ba-4a9c-bdab-7c5506b4b0a8",
   "metadata": {},
   "outputs": [
    {
     "data": {
      "text/plain": [
       "0.973875529280179"
      ]
     },
     "execution_count": 17,
     "metadata": {},
     "output_type": "execute_result"
    }
   ],
   "source": [
    "from sklearn.naive_bayes import GaussianNB\n",
    "gnb = GaussianNB()\n",
    "gnb.fit(x_train_tf , y_train)\n",
    "y_pred1 = gnb.predict(x_test_tf)\n",
    "from sklearn.metrics import accuracy_score\n",
    "accuracy_score(y_test , y_pred1)"
   ]
  },
  {
   "cell_type": "code",
   "execution_count": 18,
   "id": "98df3225-5729-4a55-93d7-83157bc6cc28",
   "metadata": {},
   "outputs": [
    {
     "data": {
      "text/plain": [
       "0.9863385795318367"
      ]
     },
     "execution_count": 18,
     "metadata": {},
     "output_type": "execute_result"
    }
   ],
   "source": [
    "from sklearn.ensemble import RandomForestClassifier\n",
    "rf = RandomForestClassifier()\n",
    "rf.fit(x_train_tf, y_train)\n",
    "y_pred2 = rf.predict(x_test_tf)\n",
    "accuracy_score(y_test , y_pred2)"
   ]
  }
 ],
 "metadata": {
  "kernelspec": {
   "display_name": "Python 3 (ipykernel)",
   "language": "python",
   "name": "python3"
  },
  "language_info": {
   "codemirror_mode": {
    "name": "ipython",
    "version": 3
   },
   "file_extension": ".py",
   "mimetype": "text/x-python",
   "name": "python",
   "nbconvert_exporter": "python",
   "pygments_lexer": "ipython3",
   "version": "3.12.6"
  }
 },
 "nbformat": 4,
 "nbformat_minor": 5
}
