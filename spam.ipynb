{
  "cells": [
    {
      "cell_type": "code",
      "execution_count": null,
      "metadata": {
        "id": "xUV5Q-PqGc1W"
      },
      "outputs": [],
      "source": [
        "import numpy as np\n",
        "import pandas as pd\n",
        "import tensorflow as tf\n",
        "import re\n",
        "from textblob import TextBlob\n",
        "from nltk.corpus import stopwords\n",
        "# import gensim\n",
        "from nltk import sent_tokenize , word_tokenize\n",
        "from gensim.utils import simple_preprocess\n",
        "from tqdm import tqdm\n",
        "# import contractions\n",
        "import string"
      ]
    },
    {
      "cell_type": "code",
      "execution_count": null,
      "metadata": {
        "colab": {
          "base_uri": "https://localhost:8080/"
        },
        "id": "boRl6XDLGnEI",
        "outputId": "3190b3c4-5c5c-461c-9293-21855c876e39"
      },
      "outputs": [
        {
          "name": "stdout",
          "output_type": "stream",
          "text": [
            "Drive already mounted at /content/drive; to attempt to forcibly remount, call drive.mount(\"/content/drive\", force_remount=True).\n"
          ]
        }
      ],
      "source": [
        "from google.colab import drive\n",
        "drive.mount('/content/drive')"
      ]
    },
    {
      "cell_type": "code",
      "execution_count": null,
      "metadata": {
        "id": "voc2iNhZGq1I"
      },
      "outputs": [],
      "source": [
        "df = pd.read_csv('/content/drive/MyDrive/Spam')"
      ]
    },
    {
      "cell_type": "code",
      "execution_count": null,
      "metadata": {
        "colab": {
          "base_uri": "https://localhost:8080/",
          "height": 147
        },
        "id": "6lIcx1B7G0G6",
        "outputId": "f963cdad-32ae-42b7-92d6-31998483dfdc"
      },
      "outputs": [
        {
          "data": {
            "text/html": [
              "<div>\n",
              "<style scoped>\n",
              "    .dataframe tbody tr th:only-of-type {\n",
              "        vertical-align: middle;\n",
              "    }\n",
              "\n",
              "    .dataframe tbody tr th {\n",
              "        vertical-align: top;\n",
              "    }\n",
              "\n",
              "    .dataframe thead th {\n",
              "        text-align: right;\n",
              "    }\n",
              "</style>\n",
              "<table border=\"1\" class=\"dataframe\">\n",
              "  <thead>\n",
              "    <tr style=\"text-align: right;\">\n",
              "      <th></th>\n",
              "      <th>0</th>\n",
              "    </tr>\n",
              "  </thead>\n",
              "  <tbody>\n",
              "    <tr>\n",
              "      <th>label</th>\n",
              "      <td>0</td>\n",
              "    </tr>\n",
              "    <tr>\n",
              "      <th>text</th>\n",
              "      <td>0</td>\n",
              "    </tr>\n",
              "  </tbody>\n",
              "</table>\n",
              "</div><br><label><b>dtype:</b> int64</label>"
            ],
            "text/plain": [
              "label    0\n",
              "text     0\n",
              "dtype: int64"
            ]
          },
          "execution_count": 6,
          "metadata": {},
          "output_type": "execute_result"
        }
      ],
      "source": [
        "df.isnull().sum()"
      ]
    },
    {
      "cell_type": "code",
      "execution_count": null,
      "metadata": {
        "id": "3GZhozQIG1ZW"
      },
      "outputs": [],
      "source": [
        "x_train = df['text']\n",
        "y_train = df['label']"
      ]
    },
    {
      "cell_type": "code",
      "execution_count": null,
      "metadata": {
        "colab": {
          "base_uri": "https://localhost:8080/"
        },
        "id": "GDnflF9hG1gX",
        "outputId": "53340b79-02db-46a0-af49-acc00e8794d2"
      },
      "outputs": [
        {
          "name": "stderr",
          "output_type": "stream",
          "text": [
            "[nltk_data] Downloading package stopwords to /root/nltk_data...\n",
            "[nltk_data]   Package stopwords is already up-to-date!\n"
          ]
        }
      ],
      "source": [
        "import nltk\n",
        "nltk.download('stopwords')\n",
        "def preprocess(x):\n",
        "    x = x.str.lower()\n",
        "    def remove_tags(t):\n",
        "        pattern = re.compile('<.*?>')\n",
        "        return pattern.sub(r'',t)\n",
        "    x = x.apply(remove_tags)\n",
        "    def remove_urls(text):\n",
        "        url_pattern = re.compile(r'https?://\\S+|www\\.\\S+')\n",
        "        text_without_urls = url_pattern.sub('', text)\n",
        "        return text_without_urls\n",
        "    x = x.apply(remove_urls)\n",
        "    lst = stopwords.words('english')\n",
        "    x.apply(lambda xi:[item for item in xi.split() if item not in lst]).apply(lambda xi:\" \".join(xi))\n",
        "    TEXT_CLEANING_RE = \"[^a-zA-z\\s]\" # Matches character that are not letter or whitespace to remove them\n",
        "    def clean_text(text):\n",
        "        text = re.sub(TEXT_CLEANING_RE, ' ', str(text).lower()).strip() # Remove unwanted characters\n",
        "        cleaned_text = re.sub('\\s+', ' ', text).strip() # Normalize whitespace\n",
        "        return cleaned_text\n",
        "    x = x.apply(lambda xi: clean_text(xi))\n",
        "    return x"
      ]
    },
    {
      "cell_type": "code",
      "execution_count": null,
      "metadata": {
        "id": "MNs64LQ_G1ny"
      },
      "outputs": [],
      "source": [
        "x_train = preprocess(x_train)"
      ]
    },
    {
      "cell_type": "code",
      "execution_count": null,
      "metadata": {
        "colab": {
          "base_uri": "https://localhost:8080/",
          "height": 458
        },
        "id": "R0gpdEucG10I",
        "outputId": "c06fb55a-db20-4ad0-d51c-ee2538e9670f"
      },
      "outputs": [
        {
          "data": {
            "text/html": [
              "<div>\n",
              "<style scoped>\n",
              "    .dataframe tbody tr th:only-of-type {\n",
              "        vertical-align: middle;\n",
              "    }\n",
              "\n",
              "    .dataframe tbody tr th {\n",
              "        vertical-align: top;\n",
              "    }\n",
              "\n",
              "    .dataframe thead th {\n",
              "        text-align: right;\n",
              "    }\n",
              "</style>\n",
              "<table border=\"1\" class=\"dataframe\">\n",
              "  <thead>\n",
              "    <tr style=\"text-align: right;\">\n",
              "      <th></th>\n",
              "      <th>text</th>\n",
              "    </tr>\n",
              "  </thead>\n",
              "  <tbody>\n",
              "    <tr>\n",
              "      <th>0</th>\n",
              "      <td>ounce feather bowl hummingbird opec moment ala...</td>\n",
              "    </tr>\n",
              "    <tr>\n",
              "      <th>1</th>\n",
              "      <td>wulvob get your medircations online qnb ikud v...</td>\n",
              "    </tr>\n",
              "    <tr>\n",
              "      <th>2</th>\n",
              "      <td>computer connection from cnn com wednesday esc...</td>\n",
              "    </tr>\n",
              "    <tr>\n",
              "      <th>3</th>\n",
              "      <td>university degree obtain a prosperous future m...</td>\n",
              "    </tr>\n",
              "    <tr>\n",
              "      <th>4</th>\n",
              "      <td>thanks for all your answers guys i know i shou...</td>\n",
              "    </tr>\n",
              "    <tr>\n",
              "      <th>...</th>\n",
              "      <td>...</td>\n",
              "    </tr>\n",
              "    <tr>\n",
              "      <th>83443</th>\n",
              "      <td>hi given a date how do i get the last date of ...</td>\n",
              "    </tr>\n",
              "    <tr>\n",
              "      <th>83444</th>\n",
              "      <td>now you can order software on cd or download i...</td>\n",
              "    </tr>\n",
              "    <tr>\n",
              "      <th>83445</th>\n",
              "      <td>dear valued member canadianpharmacy provides a...</td>\n",
              "    </tr>\n",
              "    <tr>\n",
              "      <th>83446</th>\n",
              "      <td>subscribe change profile contact us long term ...</td>\n",
              "    </tr>\n",
              "    <tr>\n",
              "      <th>83447</th>\n",
              "      <td>get the most out of life viagra has helped mil...</td>\n",
              "    </tr>\n",
              "  </tbody>\n",
              "</table>\n",
              "<p>83448 rows × 1 columns</p>\n",
              "</div><br><label><b>dtype:</b> object</label>"
            ],
            "text/plain": [
              "0        ounce feather bowl hummingbird opec moment ala...\n",
              "1        wulvob get your medircations online qnb ikud v...\n",
              "2        computer connection from cnn com wednesday esc...\n",
              "3        university degree obtain a prosperous future m...\n",
              "4        thanks for all your answers guys i know i shou...\n",
              "                               ...                        \n",
              "83443    hi given a date how do i get the last date of ...\n",
              "83444    now you can order software on cd or download i...\n",
              "83445    dear valued member canadianpharmacy provides a...\n",
              "83446    subscribe change profile contact us long term ...\n",
              "83447    get the most out of life viagra has helped mil...\n",
              "Name: text, Length: 83448, dtype: object"
            ]
          },
          "execution_count": 15,
          "metadata": {},
          "output_type": "execute_result"
        }
      ],
      "source": [
        "x_train"
      ]
    },
    {
      "cell_type": "code",
      "execution_count": null,
      "metadata": {
        "id": "VIIcBZKkG13F"
      },
      "outputs": [],
      "source": [
        "from sklearn.model_selection import train_test_split"
      ]
    },
    {
      "cell_type": "code",
      "execution_count": null,
      "metadata": {
        "id": "DjZa7u2qG16J"
      },
      "outputs": [],
      "source": [
        "x_train , x_test , y_train , y_test = train_test_split(x_train , y_train , test_size = 0.3 )"
      ]
    },
    {
      "cell_type": "code",
      "execution_count": null,
      "metadata": {
        "id": "6CcK21rqG19L"
      },
      "outputs": [],
      "source": [
        "x_test ,x_val , y_test , y_val =  train_test_split(x_test , y_test , test_size = 0.5 )"
      ]
    },
    {
      "cell_type": "code",
      "execution_count": null,
      "metadata": {
        "id": "7b3IjCWUG2AB"
      },
      "outputs": [],
      "source": [
        "from sklearn.feature_extraction.text import TfidfVectorizer\n",
        "tf = TfidfVectorizer(max_features = 13000)"
      ]
    },
    {
      "cell_type": "code",
      "execution_count": null,
      "metadata": {
        "id": "-t8r3ejnG2C0"
      },
      "outputs": [],
      "source": [
        "x_train_tf = tf.fit_transform(x_train).toarray()\n",
        "x_test_tf = tf.transform(x_test).toarray()"
      ]
    },
    {
      "cell_type": "code",
      "execution_count": null,
      "metadata": {
        "id": "RLEeNkk4tvJO"
      },
      "outputs": [],
      "source": [
        "from sklearn.metrics import accuracy_score"
      ]
    },
    {
      "cell_type": "code",
      "execution_count": null,
      "metadata": {
        "colab": {
          "base_uri": "https://localhost:8080/"
        },
        "id": "_EM8qBHQG2Fk",
        "outputId": "aee3f7d6-a2a8-4658-b91b-97d158df9bb6"
      },
      "outputs": [
        {
          "data": {
            "text/plain": [
              "0.9690021570663897"
            ]
          },
          "execution_count": 21,
          "metadata": {},
          "output_type": "execute_result"
        }
      ],
      "source": [
        "from sklearn.naive_bayes import GaussianNB\n",
        "gnb = GaussianNB()\n",
        "gnb.fit(x_train_tf , y_train)\n",
        "y_pred1 = gnb.predict(x_test_tf)\n",
        "from sklearn.metrics import accuracy_score\n",
        "accuracy_score(y_test , y_pred1)"
      ]
    },
    {
      "cell_type": "code",
      "execution_count": null,
      "metadata": {
        "colab": {
          "base_uri": "https://localhost:8080/"
        },
        "id": "y0gqlinGG2IO",
        "outputId": "36f8a8ba-f523-4e22-9f0a-97b12679b377"
      },
      "outputs": [
        {
          "data": {
            "text/plain": [
              "0.9796277063194057"
            ]
          },
          "execution_count": 16,
          "metadata": {},
          "output_type": "execute_result"
        }
      ],
      "source": [
        "from xgboost import XGBClassifier\n",
        "xg = XGBClassifier()\n",
        "xg.fit(x_train_tf, y_train)\n",
        "y_pred3 = xg.predict(x_test_tf)\n",
        "accuracy_score(y_test, y_pred3)"
      ]
    },
    {
      "cell_type": "code",
      "execution_count": null,
      "metadata": {
        "colab": {
          "base_uri": "https://localhost:8080/"
        },
        "id": "2JW69J09G2K6",
        "outputId": "807b126d-263e-46ac-ac4e-ec855b3cbfe5"
      },
      "outputs": [
        {
          "data": {
            "text/plain": [
              "0.9582967164656068"
            ]
          },
          "execution_count": 19,
          "metadata": {},
          "output_type": "execute_result"
        }
      ],
      "source": [
        "from sklearn.tree import DecisionTreeClassifier\n",
        "dt = DecisionTreeClassifier()\n",
        "dt.fit(x_train_tf, y_train)\n",
        "y_pred4 = dt.predict(x_test_tf)\n",
        "accuracy_score(y_test, y_pred4)"
      ]
    },
    {
      "cell_type": "code",
      "execution_count": null,
      "metadata": {
        "id": "Opcwd1oTG2Np"
      },
      "outputs": [],
      "source": [
        "from sklearn.svm import SVC\n",
        "svm = SVC()\n",
        "svm.fit(x_train_tf, y_train)\n",
        "y_pred5 = svm.predict(x_test_tf)\n",
        "accuracy_score(y_test, y_pred5)"
      ]
    },
    {
      "cell_type": "code",
      "execution_count": null,
      "metadata": {
        "colab": {
          "base_uri": "https://localhost:8080/"
        },
        "id": "sv0dosQWG2Qc",
        "outputId": "1e7bad70-a887-497d-9533-10877d594ee2"
      },
      "outputs": [
        {
          "data": {
            "text/plain": [
              "0.9843412958376608"
            ]
          },
          "execution_count": 20,
          "metadata": {},
          "output_type": "execute_result"
        }
      ],
      "source": [
        "from sklearn.ensemble import RandomForestClassifier\n",
        "rf = RandomForestClassifier()\n",
        "rf.fit(x_train_tf, y_train)\n",
        "y_pred2 = rf.predict(x_test_tf)\n",
        "accuracy_score(y_test , y_pred2)"
      ]
    },
    {
      "cell_type": "code",
      "execution_count": null,
      "metadata": {
        "id": "7yAyQi3wG2T3"
      },
      "outputs": [],
      "source": [
        "import pickle\n",
        "\n",
        "# Save the TfidfVectorizer\n",
        "with open('tfidf_vectorizer2.pkl', 'wb') as f:\n",
        "    pickle.dump(tf, f)"
      ]
    },
    {
      "cell_type": "code",
      "execution_count": null,
      "metadata": {
        "id": "XbjM1mB7e6pf"
      },
      "outputs": [],
      "source": [
        "with open(\"model3.pkl\" , \"wb\") as f:\n",
        "    pickle.dump(xg,f)"
      ]
    }
  ],
  "metadata": {
    "accelerator": "GPU",
    "colab": {
      "gpuType": "T4",
      "provenance": []
    },
    "kernelspec": {
      "display_name": "Python 3",
      "name": "python3"
    },
    "language_info": {
      "name": "python"
    }
  },
  "nbformat": 4,
  "nbformat_minor": 0
}
